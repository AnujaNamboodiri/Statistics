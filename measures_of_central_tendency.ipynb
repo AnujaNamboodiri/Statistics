{
 "cells": [
  {
   "attachments": {},
   "cell_type": "markdown",
   "metadata": {},
   "source": [
    "Topics covered in this notebook\n",
    "\n",
    "1. Create a demo dataset - grouped and ungrouped.\n",
    "2. Strudges formula implementation.\n",
    "3. Graphical representation of frequency distribution.\n",
    "4. A brief on measures of central tendency.\n",
    "5. Mean and composite mean calculation for both data sets.\n",
    "6. Median calculation for both data sets.\n",
    "7. Function to calculate mode.\n",
    "8. A brief on measures of dispersion.\n",
    "9. Function to calculate Range.\n",
    "10. Function to calculate Quatile deviation.\n",
    "11. Function to calculate Mean deviation.\n",
    "12. Function to calculate Standard deviation.\n",
    "13. Coefficients of dispersion\n"
   ]
  },
  {
   "attachments": {},
   "cell_type": "markdown",
   "metadata": {},
   "source": [
    "## Create demo dataset of both grouped and un grouped type"
   ]
  },
  {
   "cell_type": "code",
   "execution_count": 3,
   "metadata": {},
   "outputs": [],
   "source": [
    "# Import required libraries\n",
    "\n",
    "import pandas as pd\n",
    "import numpy as np"
   ]
  },
  {
   "cell_type": "code",
   "execution_count": 18,
   "metadata": {},
   "outputs": [
    {
     "name": "stdout",
     "output_type": "stream",
     "text": [
      "Employee serial number list [1, 2, 3, 4, 5, 6, 7, 8, 9, 10]\n",
      "Employee age list [45 39 53 31 59 34 39 39 46 54]\n",
      "   sl_no  age\n",
      "0      1   45\n",
      "1      2   39\n",
      "2      3   53\n",
      "3      4   31\n",
      "4      5   59\n",
      "5      6   34\n",
      "6      7   39\n",
      "7      8   39\n",
      "8      9   46\n",
      "9     10   54\n"
     ]
    }
   ],
   "source": [
    "# Creating a sample dataset \n",
    "# Consider this as a employee serial number and corresponding age\n",
    "\n",
    "sl_no = list(range(1,11))\n",
    "age = np.random.randint(25,60,10)\n",
    "\n",
    "print(\"Employee serial number list\",sl_no)\n",
    "print(\"Employee age list\",age)\n",
    "\n",
    "# Creating a dataframe from the above two lists\n",
    "data = pd.DataFrame()\n",
    "data['sl_no'] = sl_no\n",
    "data['age'] = age\n",
    "\n",
    "print(data)"
   ]
  },
  {
   "cell_type": "code",
   "execution_count": 57,
   "metadata": {},
   "outputs": [
    {
     "name": "stdout",
     "output_type": "stream",
     "text": [
      "Employee age range [(20, 25), (25, 30), (30, 35), (35, 40), (40, 45), (45, 50), (50, 55), (55, 60), (60, 65), (65, 70)]\n",
      "Emplyee salary range [29475 37544 68221 52312 86609 41829 84296 91310 57636 90173]\n"
     ]
    }
   ],
   "source": [
    "# Creating a sample grouped data\n",
    "# Consider this as age range and corresponding salary\n",
    "\n",
    "def create_bins(lower_bound, width, count):\n",
    "\n",
    "    bins = []\n",
    "    for low in range(lower_bound, \n",
    "                    lower_bound + count*width + 1, width):\n",
    "        bins.append((low, low+width))\n",
    "    return bins\n",
    "\n",
    "bins = create_bins(lower_bound = 20,\n",
    "                    width = 5,\n",
    "                    count = 9)\n",
    "\n",
    "\n",
    "salary = np.random.randint(25000,100000,10)\n",
    "\n",
    "print(\"Employee age range\",bins)\n",
    "print(\"Emplyee salary range\",salary)"
   ]
  },
  {
   "cell_type": "code",
   "execution_count": 63,
   "metadata": {},
   "outputs": [
    {
     "name": "stdout",
     "output_type": "stream",
     "text": [
      "        age  salary\n",
      "0  (20, 25)   29475\n",
      "1  (25, 30)   37544\n",
      "2  (30, 35)   68221\n",
      "3  (35, 40)   52312\n",
      "4  (40, 45)   86609\n",
      "5  (45, 50)   41829\n",
      "6  (50, 55)   84296\n",
      "7  (55, 60)   91310\n",
      "8  (60, 65)   57636\n",
      "9  (65, 70)   90173\n"
     ]
    }
   ],
   "source": [
    "# Creating dataframe from the above two lists using dictionary method\n",
    "# Create a dictionary of the two lists above; using dictionary comprehension\n",
    "\n",
    "grp_data = {bins[i]: salary[i] for i in range(len(bins))}\n",
    "grouped_data = pd.DataFrame(grp_data.items(), columns=['age','salary'])\n",
    "\n",
    "print(grouped_data)"
   ]
  },
  {
   "attachments": {},
   "cell_type": "markdown",
   "metadata": {},
   "source": [
    "## Find the optimal number of bins based on number of observations\n",
    "\n"
   ]
  },
  {
   "cell_type": "code",
   "execution_count": null,
   "metadata": {},
   "outputs": [],
   "source": []
  }
 ],
 "metadata": {
  "kernelspec": {
   "display_name": "Python 3",
   "language": "python",
   "name": "python3"
  },
  "language_info": {
   "codemirror_mode": {
    "name": "ipython",
    "version": 3
   },
   "file_extension": ".py",
   "mimetype": "text/x-python",
   "name": "python",
   "nbconvert_exporter": "python",
   "pygments_lexer": "ipython3",
   "version": "3.7.9"
  },
  "orig_nbformat": 4,
  "vscode": {
   "interpreter": {
    "hash": "76bebeb9821d18d90e67a1ddec662dbcad77ea6f6a68db11c6fd6a95058fb303"
   }
  }
 },
 "nbformat": 4,
 "nbformat_minor": 2
}
