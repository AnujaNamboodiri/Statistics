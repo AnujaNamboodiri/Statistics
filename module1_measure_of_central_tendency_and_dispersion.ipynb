{
 "cells": [
  {
   "attachments": {},
   "cell_type": "markdown",
   "metadata": {},
   "source": [
    "## Topics covered in this notebook\n",
    "\n",
    "1. Create a demo dataset - grouped and ungrouped.\n",
    "2. Methods to calculate bin count.\n",
    "3. Graphical representation of frequency distribution.\n",
    "4. A brief on measures of central tendency.\n",
    "5. Mean and composite mean calculation for both data sets.\n",
    "6. Median calculation for both data sets.\n",
    "7. Function to calculate mode.\n",
    "8. A brief on measures of dispersion.\n",
    "9. Function to calculate Range.\n",
    "10. Function to calculate Quatile deviation.\n",
    "11. Function to calculate Mean deviation.\n",
    "12. Function to calculate Standard deviation.\n",
    "13. Coefficients of dispersion"
   ]
  },
  {
   "attachments": {},
   "cell_type": "markdown",
   "metadata": {},
   "source": [
    "### Create demo dataset of both grouped and un grouped type"
   ]
  },
  {
   "cell_type": "code",
   "execution_count": 1,
   "metadata": {},
   "outputs": [],
   "source": [
    "# Import required libraries\n",
    "\n",
    "import pandas as pd\n",
    "import numpy as np\n",
    "import matplotlib.pyplot as plt"
   ]
  },
  {
   "cell_type": "code",
   "execution_count": 2,
   "metadata": {},
   "outputs": [
    {
     "name": "stdout",
     "output_type": "stream",
     "text": [
      "Employee serial number list [1, 2, 3, 4, 5, 6, 7, 8, 9, 10]\n",
      "Employee age list [33 44 58 54 33 42 34 39 58 56]\n",
      "   sl_no  age\n",
      "0      1   33\n",
      "1      2   44\n",
      "2      3   58\n",
      "3      4   54\n",
      "4      5   33\n",
      "5      6   42\n",
      "6      7   34\n",
      "7      8   39\n",
      "8      9   58\n",
      "9     10   56\n"
     ]
    }
   ],
   "source": [
    "# Creating a sample dataset \n",
    "# Consider this as a employee serial number and corresponding age\n",
    "\n",
    "sl_no = list(range(1,11))\n",
    "age = np.random.randint(25,60,10)\n",
    "\n",
    "print(\"Employee serial number list\",sl_no)\n",
    "print(\"Employee age list\",age)\n",
    "\n",
    "# Creating a dataframe from the above two lists\n",
    "data = pd.DataFrame()\n",
    "data['sl_no'] = sl_no\n",
    "data['age'] = age\n",
    "\n",
    "print(data)"
   ]
  },
  {
   "cell_type": "code",
   "execution_count": 3,
   "metadata": {},
   "outputs": [
    {
     "name": "stdout",
     "output_type": "stream",
     "text": [
      "Employee age range [(20, 25), (25, 30), (30, 35), (35, 40), (40, 45), (45, 50), (50, 55), (55, 60), (60, 65), (65, 70)]\n",
      "Emplyee salary range [35608 29945 59449 92230 48758 80235 88115 57803 84223 53643]\n"
     ]
    }
   ],
   "source": [
    "# Creating a sample grouped data\n",
    "# Consider this as age range and corresponding salary\n",
    "\n",
    "def create_bins(lower_bound, width, count):\n",
    "\n",
    "    bins = []\n",
    "    for low in range(lower_bound, \n",
    "                    lower_bound + count*width + 1, width):\n",
    "        bins.append((low, low+width))\n",
    "    return bins\n",
    "\n",
    "bins = create_bins(lower_bound = 20,\n",
    "                    width = 5,\n",
    "                    count = 9)\n",
    "\n",
    "\n",
    "salary = np.random.randint(25000,100000,10)\n",
    "\n",
    "print(\"Employee age range\",bins)\n",
    "print(\"Emplyee salary range\",salary)"
   ]
  },
  {
   "cell_type": "code",
   "execution_count": 4,
   "metadata": {},
   "outputs": [
    {
     "name": "stdout",
     "output_type": "stream",
     "text": [
      "        age  salary\n",
      "0  (20, 25)   35608\n",
      "1  (25, 30)   29945\n",
      "2  (30, 35)   59449\n",
      "3  (35, 40)   92230\n",
      "4  (40, 45)   48758\n",
      "5  (45, 50)   80235\n",
      "6  (50, 55)   88115\n",
      "7  (55, 60)   57803\n",
      "8  (60, 65)   84223\n",
      "9  (65, 70)   53643\n"
     ]
    }
   ],
   "source": [
    "# Creating dataframe from the above two lists using dictionary method\n",
    "# Create a dictionary of the two lists above; using dictionary comprehension\n",
    "\n",
    "grp_data = {bins[i]: salary[i] for i in range(len(bins))}\n",
    "grouped_data = pd.DataFrame(grp_data.items(), columns=['age','salary'])\n",
    "\n",
    "print(grouped_data)"
   ]
  },
  {
   "attachments": {},
   "cell_type": "markdown",
   "metadata": {},
   "source": [
    "### Find the optimal bin size for a dataset"
   ]
  },
  {
   "cell_type": "code",
   "execution_count": 5,
   "metadata": {},
   "outputs": [
    {
     "data": {
      "text/html": [
       "<div>\n",
       "<style scoped>\n",
       "    .dataframe tbody tr th:only-of-type {\n",
       "        vertical-align: middle;\n",
       "    }\n",
       "\n",
       "    .dataframe tbody tr th {\n",
       "        vertical-align: top;\n",
       "    }\n",
       "\n",
       "    .dataframe thead th {\n",
       "        text-align: right;\n",
       "    }\n",
       "</style>\n",
       "<table border=\"1\" class=\"dataframe\">\n",
       "  <thead>\n",
       "    <tr style=\"text-align: right;\">\n",
       "      <th></th>\n",
       "      <th>x</th>\n",
       "      <th>freq</th>\n",
       "    </tr>\n",
       "  </thead>\n",
       "  <tbody>\n",
       "    <tr>\n",
       "      <th>0</th>\n",
       "      <td>1</td>\n",
       "      <td>42</td>\n",
       "    </tr>\n",
       "    <tr>\n",
       "      <th>1</th>\n",
       "      <td>2</td>\n",
       "      <td>77</td>\n",
       "    </tr>\n",
       "    <tr>\n",
       "      <th>2</th>\n",
       "      <td>3</td>\n",
       "      <td>76</td>\n",
       "    </tr>\n",
       "    <tr>\n",
       "      <th>3</th>\n",
       "      <td>4</td>\n",
       "      <td>19</td>\n",
       "    </tr>\n",
       "    <tr>\n",
       "      <th>4</th>\n",
       "      <td>5</td>\n",
       "      <td>97</td>\n",
       "    </tr>\n",
       "  </tbody>\n",
       "</table>\n",
       "</div>"
      ],
      "text/plain": [
       "   x  freq\n",
       "0  1    42\n",
       "1  2    77\n",
       "2  3    76\n",
       "3  4    19\n",
       "4  5    97"
      ]
     },
     "execution_count": 5,
     "metadata": {},
     "output_type": "execute_result"
    }
   ],
   "source": [
    "# Sample frequency table with n observations \n",
    "\n",
    "def sample (no_of_observations):\n",
    "    x = list(range(1,no_of_observations+1))\n",
    "    freq = np.random.randint(1,100,no_of_observations)\n",
    "    sample = {x[i]: freq[i] for i in range(len(x))}\n",
    "    sample_df = pd.DataFrame(sample.items(), columns=['x', 'freq'])\n",
    "    return sample_df\n",
    "\n",
    "sample_df = sample(no_of_observations=100)    \n",
    "sample_df.head(5)"
   ]
  },
  {
   "cell_type": "code",
   "execution_count": 6,
   "metadata": {},
   "outputs": [
    {
     "data": {
      "text/html": [
       "<div>\n",
       "<style scoped>\n",
       "    .dataframe tbody tr th:only-of-type {\n",
       "        vertical-align: middle;\n",
       "    }\n",
       "\n",
       "    .dataframe tbody tr th {\n",
       "        vertical-align: top;\n",
       "    }\n",
       "\n",
       "    .dataframe thead th {\n",
       "        text-align: right;\n",
       "    }\n",
       "</style>\n",
       "<table border=\"1\" class=\"dataframe\">\n",
       "  <thead>\n",
       "    <tr style=\"text-align: right;\">\n",
       "      <th></th>\n",
       "      <th>class_interval</th>\n",
       "      <th>freq</th>\n",
       "    </tr>\n",
       "  </thead>\n",
       "  <tbody>\n",
       "    <tr>\n",
       "      <th>0</th>\n",
       "      <td>(0, 5)</td>\n",
       "      <td>63</td>\n",
       "    </tr>\n",
       "    <tr>\n",
       "      <th>1</th>\n",
       "      <td>(5, 10)</td>\n",
       "      <td>47</td>\n",
       "    </tr>\n",
       "    <tr>\n",
       "      <th>2</th>\n",
       "      <td>(10, 15)</td>\n",
       "      <td>61</td>\n",
       "    </tr>\n",
       "    <tr>\n",
       "      <th>3</th>\n",
       "      <td>(15, 20)</td>\n",
       "      <td>80</td>\n",
       "    </tr>\n",
       "    <tr>\n",
       "      <th>4</th>\n",
       "      <td>(20, 25)</td>\n",
       "      <td>79</td>\n",
       "    </tr>\n",
       "  </tbody>\n",
       "</table>\n",
       "</div>"
      ],
      "text/plain": [
       "  class_interval  freq\n",
       "0         (0, 5)    63\n",
       "1        (5, 10)    47\n",
       "2       (10, 15)    61\n",
       "3       (15, 20)    80\n",
       "4       (20, 25)    79"
      ]
     },
     "execution_count": 6,
     "metadata": {},
     "output_type": "execute_result"
    }
   ],
   "source": [
    "# Sample dataset with class intervals and n observations\n",
    "def sample_2 (no_of_observations):\n",
    "    bins = create_bins(lower_bound=0, width=5, count=no_of_observations)\n",
    "    freq = np.random.randint(20, 100,no_of_observations+1)\n",
    "    sample_2 = {bins[i]:freq[i] for i in range(len(bins))}\n",
    "    sample_2 = pd.DataFrame(sample_2.items(), columns=['class_interval', 'freq'])\n",
    "    return sample_2\n",
    "\n",
    "sample_df2 = sample_2(no_of_observations=10)\n",
    "sample_df2.head(5)"
   ]
  },
  {
   "attachments": {},
   "cell_type": "markdown",
   "metadata": {},
   "source": [
    "### Method 1 : Sturge's Formula \n",
    "\n",
    "The formula states that the optimal number of bins for a given dataset with n observations is given by \n",
    "> K= 1 + 3. 322 logN\n",
    "\n",
    "where:\n",
    "* K = number of class intervals (bins).\n",
    "* N = number of observations in the set.\n",
    "* log = logarithm of the number.\n",
    "\n",
    "\n",
    "1. Sturge’s rule works best for continuous data that is normally distributed and symmetrical. \n",
    "2. It helps us to convert this data into discrete, symmetric, binomial classes. \n",
    "3. As long as your data is not skewed, using Sturge’s rule should give you a nice-looking, easy to read histogram that represents the data well.\n",
    "4. What Sturge’s rule is not much good for is severely skewed, non symmetric data sets, or for an extremely large number of observations. Here you’ll want to use one of the many available alternatives."
   ]
  },
  {
   "cell_type": "code",
   "execution_count": 7,
   "metadata": {},
   "outputs": [
    {
     "data": {
      "text/plain": [
       "Text(0.5, 1.0, 'bins = 13')"
      ]
     },
     "execution_count": 7,
     "metadata": {},
     "output_type": "execute_result"
    },
    {
     "data": {
      "image/png": "[encoded data removed]",
      "text/plain": [
       "<Figure size 500x300 with 1 Axes>"
      ]
     },
     "metadata": {},
     "output_type": "display_data"
    }
   ],
   "source": [
    "no_of_observations = 50\n",
    "dist =  sample(no_of_observations)\n",
    "bin_count = int(1 + 3.322*(np.log(no_of_observations)))\n",
    "\n",
    "fig = plt.figure(figsize=(5,3))\n",
    "plt.hist(x=dist['freq'],bins=bin_count)\n",
    "plt.title(f'bins = {bin_count}')"
   ]
  },
  {
   "attachments": {
    "image.png": {
     "image/png": "[encoded data removed]"
    }
   },
   "cell_type": "markdown",
   "metadata": {},
   "source": [
    "### Method 2 : Freedman-Diaconis Rule\n",
    "\n",
    "It considers the sample size as well as the spread of the sample.\n",
    "\n",
    "![image.png](attachment:image.png)\n",
    "\n",
    "where,\n",
    "* q3 is the third quartile.\n",
    "* q1 is the first quartile.\n",
    "* n stands for sample size.\n",
    "* ceil() method rounds a number UP to the nearest integer"
   ]
  },
  {
   "cell_type": "code",
   "execution_count": 8,
   "metadata": {},
   "outputs": [
    {
     "data": {
      "text/plain": [
       "Text(0.5, 1.0, 'bins = 26')"
      ]
     },
     "execution_count": 8,
     "metadata": {},
     "output_type": "execute_result"
    },
    {
     "data": {
      "image/png": "[encoded data removed]",
      "text/plain": [
       "<Figure size 500x300 with 1 Axes>"
      ]
     },
     "metadata": {},
     "output_type": "display_data"
    }
   ],
   "source": [
    "np.random.seed(11)                              # get the same random numbers always\n",
    "norm_dist = pd.Series(np.random.randn(1000))    # get a random normal distribution\n",
    "q1 = norm_dist.quantile(0.25)\n",
    "q3 = norm_dist.quantile(0.75)\n",
    "iqr = q3-q1\n",
    "bin_width = (2*iqr)/(len(norm_dist)**(1/3))\n",
    "bin_count = int(np.ceil((norm_dist.max() - norm_dist.min())/(bin_width)))\n",
    "\n",
    "fig = plt.figure(figsize = (5,3))\n",
    "plt.hist(x=norm_dist, bins=bin_count)\n",
    "plt.title(f'bins = {bin_count}')"
   ]
  },
  {
   "attachments": {},
   "cell_type": "markdown",
   "metadata": {},
   "source": [
    "# Measures of central tendency\n",
    "\n",
    "A measure of central tendency is a single value that attempts to describe a set of data by identifying the central position within the dataset."
   ]
  },
  {
   "attachments": {},
   "cell_type": "markdown",
   "metadata": {},
   "source": [
    "### Recall the datasets"
   ]
  },
  {
   "cell_type": "code",
   "execution_count": 9,
   "metadata": {},
   "outputs": [
    {
     "data": {
      "text/html": [
       "<div>\n",
       "<style scoped>\n",
       "    .dataframe tbody tr th:only-of-type {\n",
       "        vertical-align: middle;\n",
       "    }\n",
       "\n",
       "    .dataframe tbody tr th {\n",
       "        vertical-align: top;\n",
       "    }\n",
       "\n",
       "    .dataframe thead th {\n",
       "        text-align: right;\n",
       "    }\n",
       "</style>\n",
       "<table border=\"1\" class=\"dataframe\">\n",
       "  <thead>\n",
       "    <tr style=\"text-align: right;\">\n",
       "      <th></th>\n",
       "      <th>sl_no</th>\n",
       "      <th>age</th>\n",
       "    </tr>\n",
       "  </thead>\n",
       "  <tbody>\n",
       "    <tr>\n",
       "      <th>0</th>\n",
       "      <td>1</td>\n",
       "      <td>33</td>\n",
       "    </tr>\n",
       "    <tr>\n",
       "      <th>1</th>\n",
       "      <td>2</td>\n",
       "      <td>44</td>\n",
       "    </tr>\n",
       "    <tr>\n",
       "      <th>2</th>\n",
       "      <td>3</td>\n",
       "      <td>58</td>\n",
       "    </tr>\n",
       "    <tr>\n",
       "      <th>3</th>\n",
       "      <td>4</td>\n",
       "      <td>54</td>\n",
       "    </tr>\n",
       "    <tr>\n",
       "      <th>4</th>\n",
       "      <td>5</td>\n",
       "      <td>33</td>\n",
       "    </tr>\n",
       "  </tbody>\n",
       "</table>\n",
       "</div>"
      ],
      "text/plain": [
       "   sl_no  age\n",
       "0      1   33\n",
       "1      2   44\n",
       "2      3   58\n",
       "3      4   54\n",
       "4      5   33"
      ]
     },
     "metadata": {},
     "output_type": "display_data"
    },
    {
     "data": {
      "text/html": [
       "<div>\n",
       "<style scoped>\n",
       "    .dataframe tbody tr th:only-of-type {\n",
       "        vertical-align: middle;\n",
       "    }\n",
       "\n",
       "    .dataframe tbody tr th {\n",
       "        vertical-align: top;\n",
       "    }\n",
       "\n",
       "    .dataframe thead th {\n",
       "        text-align: right;\n",
       "    }\n",
       "</style>\n",
       "<table border=\"1\" class=\"dataframe\">\n",
       "  <thead>\n",
       "    <tr style=\"text-align: right;\">\n",
       "      <th></th>\n",
       "      <th>age</th>\n",
       "      <th>salary</th>\n",
       "    </tr>\n",
       "  </thead>\n",
       "  <tbody>\n",
       "    <tr>\n",
       "      <th>0</th>\n",
       "      <td>(20, 25)</td>\n",
       "      <td>35608</td>\n",
       "    </tr>\n",
       "    <tr>\n",
       "      <th>1</th>\n",
       "      <td>(25, 30)</td>\n",
       "      <td>29945</td>\n",
       "    </tr>\n",
       "    <tr>\n",
       "      <th>2</th>\n",
       "      <td>(30, 35)</td>\n",
       "      <td>59449</td>\n",
       "    </tr>\n",
       "    <tr>\n",
       "      <th>3</th>\n",
       "      <td>(35, 40)</td>\n",
       "      <td>92230</td>\n",
       "    </tr>\n",
       "    <tr>\n",
       "      <th>4</th>\n",
       "      <td>(40, 45)</td>\n",
       "      <td>48758</td>\n",
       "    </tr>\n",
       "  </tbody>\n",
       "</table>\n",
       "</div>"
      ],
      "text/plain": [
       "        age  salary\n",
       "0  (20, 25)   35608\n",
       "1  (25, 30)   29945\n",
       "2  (30, 35)   59449\n",
       "3  (35, 40)   92230\n",
       "4  (40, 45)   48758"
      ]
     },
     "metadata": {},
     "output_type": "display_data"
    }
   ],
   "source": [
    "# Recalling the two datasets we created\n",
    "\n",
    "display(data.head(5))\n",
    "display(grouped_data.head(5))"
   ]
  },
  {
   "attachments": {
    "image.png": {
     "image/png": "[encoded data removed]"
    }
   },
   "cell_type": "markdown",
   "metadata": {},
   "source": [
    "## Mean of a dataset\n",
    "It represents the average of the given dataset\n",
    "\n",
    "![image.png](attachment:image.png)"
   ]
  },
  {
   "attachments": {},
   "cell_type": "markdown",
   "metadata": {},
   "source": [
    "### Mean calculation for discrete ungrouped data"
   ]
  },
  {
   "cell_type": "code",
   "execution_count": 10,
   "metadata": {},
   "outputs": [
    {
     "name": "stdout",
     "output_type": "stream",
     "text": [
      "<class 'pandas.core.frame.DataFrame'>\n",
      "RangeIndex: 10 entries, 0 to 9\n",
      "Data columns (total 2 columns):\n",
      " #   Column  Non-Null Count  Dtype\n",
      "---  ------  --------------  -----\n",
      " 0   sl_no   10 non-null     int64\n",
      " 1   age     10 non-null     int32\n",
      "dtypes: int32(1), int64(1)\n",
      "memory usage: 248.0 bytes\n"
     ]
    },
    {
     "data": {
      "text/html": [
       "<div>\n",
       "<style scoped>\n",
       "    .dataframe tbody tr th:only-of-type {\n",
       "        vertical-align: middle;\n",
       "    }\n",
       "\n",
       "    .dataframe tbody tr th {\n",
       "        vertical-align: top;\n",
       "    }\n",
       "\n",
       "    .dataframe thead th {\n",
       "        text-align: right;\n",
       "    }\n",
       "</style>\n",
       "<table border=\"1\" class=\"dataframe\">\n",
       "  <thead>\n",
       "    <tr style=\"text-align: right;\">\n",
       "      <th></th>\n",
       "      <th>sl_no</th>\n",
       "      <th>age</th>\n",
       "    </tr>\n",
       "  </thead>\n",
       "  <tbody>\n",
       "    <tr>\n",
       "      <th>0</th>\n",
       "      <td>1</td>\n",
       "      <td>33</td>\n",
       "    </tr>\n",
       "    <tr>\n",
       "      <th>1</th>\n",
       "      <td>2</td>\n",
       "      <td>44</td>\n",
       "    </tr>\n",
       "    <tr>\n",
       "      <th>2</th>\n",
       "      <td>3</td>\n",
       "      <td>58</td>\n",
       "    </tr>\n",
       "    <tr>\n",
       "      <th>3</th>\n",
       "      <td>4</td>\n",
       "      <td>54</td>\n",
       "    </tr>\n",
       "    <tr>\n",
       "      <th>4</th>\n",
       "      <td>5</td>\n",
       "      <td>33</td>\n",
       "    </tr>\n",
       "  </tbody>\n",
       "</table>\n",
       "</div>"
      ],
      "text/plain": [
       "   sl_no  age\n",
       "0      1   33\n",
       "1      2   44\n",
       "2      3   58\n",
       "3      4   54\n",
       "4      5   33"
      ]
     },
     "metadata": {},
     "output_type": "display_data"
    }
   ],
   "source": [
    "data.info()\n",
    "display(data.head(5))"
   ]
  },
  {
   "attachments": {},
   "cell_type": "markdown",
   "metadata": {},
   "source": [
    "#### Using python mean() function"
   ]
  },
  {
   "cell_type": "code",
   "execution_count": 11,
   "metadata": {},
   "outputs": [],
   "source": [
    "from statistics import mean"
   ]
  },
  {
   "cell_type": "code",
   "execution_count": 12,
   "metadata": {},
   "outputs": [
    {
     "name": "stdout",
     "output_type": "stream",
     "text": [
      "Average age is 45.1\n"
     ]
    }
   ],
   "source": [
    "mean_1 = mean(data['age'])\n",
    "print(\"Average age is\", mean_1)"
   ]
  },
  {
   "attachments": {},
   "cell_type": "markdown",
   "metadata": {},
   "source": [
    "#### Using python sum() function"
   ]
  },
  {
   "cell_type": "code",
   "execution_count": 13,
   "metadata": {},
   "outputs": [
    {
     "name": "stdout",
     "output_type": "stream",
     "text": [
      "Average age is 45.1\n"
     ]
    }
   ],
   "source": [
    "sum_data = sum(data['age'])\n",
    "mean_2 = sum_data/len(data['age'])\n",
    "print(\"Average age is\", mean_2)"
   ]
  },
  {
   "attachments": {},
   "cell_type": "markdown",
   "metadata": {},
   "source": [
    "#### Using reduce() and lambda method"
   ]
  },
  {
   "cell_type": "code",
   "execution_count": 14,
   "metadata": {},
   "outputs": [],
   "source": [
    "from functools import reduce"
   ]
  },
  {
   "cell_type": "code",
   "execution_count": 15,
   "metadata": {},
   "outputs": [
    {
     "name": "stdout",
     "output_type": "stream",
     "text": [
      "Average age is 45.1\n"
     ]
    }
   ],
   "source": [
    "'''\n",
    "Syntax of reduce and lambda functions\n",
    "Reduce : reduce(function, input_list/sequence)\n",
    "Lambda : lambda arguments:function\n",
    "'''\n",
    "\n",
    "mean_3 = reduce(lambda x,y : x+y, data['age']) / len(data['age'])\n",
    "print(\"Average age is\", mean_3)"
   ]
  },
  {
   "attachments": {},
   "cell_type": "markdown",
   "metadata": {},
   "source": [
    "#### Using reduce() and add operator"
   ]
  },
  {
   "cell_type": "code",
   "execution_count": 16,
   "metadata": {},
   "outputs": [],
   "source": [
    "import operator"
   ]
  },
  {
   "cell_type": "code",
   "execution_count": 17,
   "metadata": {},
   "outputs": [
    {
     "name": "stdout",
     "output_type": "stream",
     "text": [
      "Average age is 45.1\n"
     ]
    }
   ],
   "source": [
    "mean_4 = reduce(operator.add, data['age']) / len(data['age'])\n",
    "print(\"Average age is\", mean_4)"
   ]
  },
  {
   "attachments": {},
   "cell_type": "markdown",
   "metadata": {},
   "source": [
    "#### Using NumPy average() function"
   ]
  },
  {
   "cell_type": "code",
   "execution_count": 18,
   "metadata": {},
   "outputs": [
    {
     "name": "stdout",
     "output_type": "stream",
     "text": [
      "Average age is 45.1\n",
      "Average age rounded till 3 decimals: 45.1\n"
     ]
    }
   ],
   "source": [
    "mean_5 = np.average(data['age'])\n",
    "print(\"Average age is\", mean_5)\n",
    "print(\"Average age rounded till 3 decimals:\", round(mean_5,3))"
   ]
  },
  {
   "attachments": {},
   "cell_type": "markdown",
   "metadata": {},
   "source": [
    "## Mean of frequency table - discrete and grouped"
   ]
  },
  {
   "cell_type": "code",
   "execution_count": 19,
   "metadata": {},
   "outputs": [
    {
     "name": "stdout",
     "output_type": "stream",
     "text": [
      "Sample discrete frequency table:\n",
      "\n"
     ]
    },
    {
     "data": {
      "text/html": [
       "<div>\n",
       "<style scoped>\n",
       "    .dataframe tbody tr th:only-of-type {\n",
       "        vertical-align: middle;\n",
       "    }\n",
       "\n",
       "    .dataframe tbody tr th {\n",
       "        vertical-align: top;\n",
       "    }\n",
       "\n",
       "    .dataframe thead th {\n",
       "        text-align: right;\n",
       "    }\n",
       "</style>\n",
       "<table border=\"1\" class=\"dataframe\">\n",
       "  <thead>\n",
       "    <tr style=\"text-align: right;\">\n",
       "      <th></th>\n",
       "      <th>x</th>\n",
       "      <th>freq</th>\n",
       "    </tr>\n",
       "  </thead>\n",
       "  <tbody>\n",
       "    <tr>\n",
       "      <th>0</th>\n",
       "      <td>1</td>\n",
       "      <td>37</td>\n",
       "    </tr>\n",
       "    <tr>\n",
       "      <th>1</th>\n",
       "      <td>2</td>\n",
       "      <td>53</td>\n",
       "    </tr>\n",
       "    <tr>\n",
       "      <th>2</th>\n",
       "      <td>3</td>\n",
       "      <td>89</td>\n",
       "    </tr>\n",
       "    <tr>\n",
       "      <th>3</th>\n",
       "      <td>4</td>\n",
       "      <td>46</td>\n",
       "    </tr>\n",
       "    <tr>\n",
       "      <th>4</th>\n",
       "      <td>5</td>\n",
       "      <td>73</td>\n",
       "    </tr>\n",
       "  </tbody>\n",
       "</table>\n",
       "</div>"
      ],
      "text/plain": [
       "   x  freq\n",
       "0  1    37\n",
       "1  2    53\n",
       "2  3    89\n",
       "3  4    46\n",
       "4  5    73"
      ]
     },
     "metadata": {},
     "output_type": "display_data"
    },
    {
     "name": "stdout",
     "output_type": "stream",
     "text": [
      "Sample frequency table with class intervals:\n",
      "\n"
     ]
    },
    {
     "data": {
      "text/html": [
       "<div>\n",
       "<style scoped>\n",
       "    .dataframe tbody tr th:only-of-type {\n",
       "        vertical-align: middle;\n",
       "    }\n",
       "\n",
       "    .dataframe tbody tr th {\n",
       "        vertical-align: top;\n",
       "    }\n",
       "\n",
       "    .dataframe thead th {\n",
       "        text-align: right;\n",
       "    }\n",
       "</style>\n",
       "<table border=\"1\" class=\"dataframe\">\n",
       "  <thead>\n",
       "    <tr style=\"text-align: right;\">\n",
       "      <th></th>\n",
       "      <th>class_interval</th>\n",
       "      <th>freq</th>\n",
       "    </tr>\n",
       "  </thead>\n",
       "  <tbody>\n",
       "    <tr>\n",
       "      <th>0</th>\n",
       "      <td>(0, 5)</td>\n",
       "      <td>99</td>\n",
       "    </tr>\n",
       "    <tr>\n",
       "      <th>1</th>\n",
       "      <td>(5, 10)</td>\n",
       "      <td>68</td>\n",
       "    </tr>\n",
       "    <tr>\n",
       "      <th>2</th>\n",
       "      <td>(10, 15)</td>\n",
       "      <td>85</td>\n",
       "    </tr>\n",
       "    <tr>\n",
       "      <th>3</th>\n",
       "      <td>(15, 20)</td>\n",
       "      <td>24</td>\n",
       "    </tr>\n",
       "    <tr>\n",
       "      <th>4</th>\n",
       "      <td>(20, 25)</td>\n",
       "      <td>69</td>\n",
       "    </tr>\n",
       "  </tbody>\n",
       "</table>\n",
       "</div>"
      ],
      "text/plain": [
       "  class_interval  freq\n",
       "0         (0, 5)    99\n",
       "1        (5, 10)    68\n",
       "2       (10, 15)    85\n",
       "3       (15, 20)    24\n",
       "4       (20, 25)    69"
      ]
     },
     "metadata": {},
     "output_type": "display_data"
    }
   ],
   "source": [
    "ungrouped_freq_table = sample(no_of_observations=50)\n",
    "print(\"Sample discrete frequency table:\\n\")\n",
    "display(ungrouped_freq_table.head(5))\n",
    "\n",
    "grouped_freq_table = sample_2(no_of_observations=50)\n",
    "print(\"Sample frequency table with class intervals:\\n\")\n",
    "display(grouped_freq_table.head(5))\n"
   ]
  },
  {
   "cell_type": "code",
   "execution_count": 20,
   "metadata": {},
   "outputs": [
    {
     "data": {
      "text/html": [
       "<div>\n",
       "<style scoped>\n",
       "    .dataframe tbody tr th:only-of-type {\n",
       "        vertical-align: middle;\n",
       "    }\n",
       "\n",
       "    .dataframe tbody tr th {\n",
       "        vertical-align: top;\n",
       "    }\n",
       "\n",
       "    .dataframe thead th {\n",
       "        text-align: right;\n",
       "    }\n",
       "</style>\n",
       "<table border=\"1\" class=\"dataframe\">\n",
       "  <thead>\n",
       "    <tr style=\"text-align: right;\">\n",
       "      <th></th>\n",
       "      <th>x</th>\n",
       "      <th>freq</th>\n",
       "      <th>fixi</th>\n",
       "    </tr>\n",
       "  </thead>\n",
       "  <tbody>\n",
       "    <tr>\n",
       "      <th>0</th>\n",
       "      <td>1</td>\n",
       "      <td>37</td>\n",
       "      <td>37</td>\n",
       "    </tr>\n",
       "    <tr>\n",
       "      <th>1</th>\n",
       "      <td>2</td>\n",
       "      <td>53</td>\n",
       "      <td>106</td>\n",
       "    </tr>\n",
       "    <tr>\n",
       "      <th>2</th>\n",
       "      <td>3</td>\n",
       "      <td>89</td>\n",
       "      <td>267</td>\n",
       "    </tr>\n",
       "    <tr>\n",
       "      <th>3</th>\n",
       "      <td>4</td>\n",
       "      <td>46</td>\n",
       "      <td>184</td>\n",
       "    </tr>\n",
       "    <tr>\n",
       "      <th>4</th>\n",
       "      <td>5</td>\n",
       "      <td>73</td>\n",
       "      <td>365</td>\n",
       "    </tr>\n",
       "  </tbody>\n",
       "</table>\n",
       "</div>"
      ],
      "text/plain": [
       "   x  freq  fixi\n",
       "0  1    37    37\n",
       "1  2    53   106\n",
       "2  3    89   267\n",
       "3  4    46   184\n",
       "4  5    73   365"
      ]
     },
     "execution_count": 20,
     "metadata": {},
     "output_type": "execute_result"
    }
   ],
   "source": [
    "# Mean of a frequency df is done by calculating mean of the product of observation and frequency\n",
    "ungrouped_freq_table['fixi'] = ungrouped_freq_table['x'] * ungrouped_freq_table['freq']\n",
    "ungrouped_freq_table.head(5)"
   ]
  },
  {
   "cell_type": "code",
   "execution_count": 21,
   "metadata": {},
   "outputs": [
    {
     "name": "stdout",
     "output_type": "stream",
     "text": [
      "Mean of ungrpouped frequency table is  1365.32\n"
     ]
    }
   ],
   "source": [
    "ungrouped_freq_table_mean = np.average(ungrouped_freq_table['fixi'])\n",
    "print(\"Mean of ungrpouped frequency table is \", ungrouped_freq_table_mean)"
   ]
  },
  {
   "cell_type": "code",
   "execution_count": 22,
   "metadata": {},
   "outputs": [
    {
     "data": {
      "text/html": [
       "<div>\n",
       "<style scoped>\n",
       "    .dataframe tbody tr th:only-of-type {\n",
       "        vertical-align: middle;\n",
       "    }\n",
       "\n",
       "    .dataframe tbody tr th {\n",
       "        vertical-align: top;\n",
       "    }\n",
       "\n",
       "    .dataframe thead th {\n",
       "        text-align: right;\n",
       "    }\n",
       "</style>\n",
       "<table border=\"1\" class=\"dataframe\">\n",
       "  <thead>\n",
       "    <tr style=\"text-align: right;\">\n",
       "      <th></th>\n",
       "      <th>class_interval</th>\n",
       "      <th>freq</th>\n",
       "      <th>low</th>\n",
       "      <th>high</th>\n",
       "      <th>xi</th>\n",
       "      <th>fixi</th>\n",
       "    </tr>\n",
       "  </thead>\n",
       "  <tbody>\n",
       "    <tr>\n",
       "      <th>0</th>\n",
       "      <td>(0, 5)</td>\n",
       "      <td>99</td>\n",
       "      <td>0</td>\n",
       "      <td>5</td>\n",
       "      <td>2.5</td>\n",
       "      <td>247.5</td>\n",
       "    </tr>\n",
       "    <tr>\n",
       "      <th>1</th>\n",
       "      <td>(5, 10)</td>\n",
       "      <td>68</td>\n",
       "      <td>5</td>\n",
       "      <td>10</td>\n",
       "      <td>2.5</td>\n",
       "      <td>170.0</td>\n",
       "    </tr>\n",
       "    <tr>\n",
       "      <th>2</th>\n",
       "      <td>(10, 15)</td>\n",
       "      <td>85</td>\n",
       "      <td>10</td>\n",
       "      <td>15</td>\n",
       "      <td>2.5</td>\n",
       "      <td>212.5</td>\n",
       "    </tr>\n",
       "    <tr>\n",
       "      <th>3</th>\n",
       "      <td>(15, 20)</td>\n",
       "      <td>24</td>\n",
       "      <td>15</td>\n",
       "      <td>20</td>\n",
       "      <td>2.5</td>\n",
       "      <td>60.0</td>\n",
       "    </tr>\n",
       "    <tr>\n",
       "      <th>4</th>\n",
       "      <td>(20, 25)</td>\n",
       "      <td>69</td>\n",
       "      <td>20</td>\n",
       "      <td>25</td>\n",
       "      <td>2.5</td>\n",
       "      <td>172.5</td>\n",
       "    </tr>\n",
       "  </tbody>\n",
       "</table>\n",
       "</div>"
      ],
      "text/plain": [
       "  class_interval  freq  low  high   xi   fixi\n",
       "0         (0, 5)    99    0     5  2.5  247.5\n",
       "1        (5, 10)    68    5    10  2.5  170.0\n",
       "2       (10, 15)    85   10    15  2.5  212.5\n",
       "3       (15, 20)    24   15    20  2.5   60.0\n",
       "4       (20, 25)    69   20    25  2.5  172.5"
      ]
     },
     "execution_count": 22,
     "metadata": {},
     "output_type": "execute_result"
    }
   ],
   "source": [
    "# For frequency table with class intervals, class midpoint is multiplied with frequency and then mean is calculated\n",
    "grouped_freq_table[['low','high']] = grouped_freq_table['class_interval'].apply(pd.Series)\n",
    "grouped_freq_table['xi'] = (grouped_freq_table['high'] - grouped_freq_table['low'])/2\n",
    "grouped_freq_table['fixi'] = grouped_freq_table['xi']*grouped_freq_table['freq']\n",
    "grouped_freq_table.head(5)"
   ]
  },
  {
   "cell_type": "code",
   "execution_count": 23,
   "metadata": {},
   "outputs": [
    {
     "name": "stdout",
     "output_type": "stream",
     "text": [
      "Mean of grpouped frequency table is  132.7450980392157\n"
     ]
    }
   ],
   "source": [
    "grouped_freq_table_mean = np.average(grouped_freq_table['fixi'])\n",
    "print(\"Mean of grpouped frequency table is \", grouped_freq_table_mean)"
   ]
  },
  {
   "attachments": {},
   "cell_type": "markdown",
   "metadata": {},
   "source": [
    "## Composite Mean calculation"
   ]
  },
  {
   "cell_type": "code",
   "execution_count": 24,
   "metadata": {},
   "outputs": [],
   "source": [
    "## code here"
   ]
  },
  {
   "attachments": {},
   "cell_type": "markdown",
   "metadata": {},
   "source": [
    "## Median of a dataset\n",
    "\n",
    "Median is the middle value of an ascending or descending list.\n",
    "1. Sort the list in ascending or descending order\n",
    "2. The middle value of this sorted list is the median of the list\n",
    "\n",
    "* If the list contains even numbers of items\n",
    "    * sum the two numbers in the middle\n",
    "    * the division of the sum by 2 will give you the median of the list"
   ]
  },
  {
   "attachments": {},
   "cell_type": "markdown",
   "metadata": {},
   "source": [
    "#### Median for a even numbered list using math library"
   ]
  },
  {
   "cell_type": "code",
   "execution_count": 25,
   "metadata": {},
   "outputs": [],
   "source": [
    "import math"
   ]
  },
  {
   "cell_type": "code",
   "execution_count": 26,
   "metadata": {},
   "outputs": [
    {
     "name": "stdout",
     "output_type": "stream",
     "text": [
      "Median of the age is 43.0\n"
     ]
    }
   ],
   "source": [
    "lst_1 = list(data['age'])\n",
    "lst_1.sort()                #step1 is to sort the list elements\n",
    "first_ind = math.floor(len(lst_1)/2)    #floor is rounds a number DOWN to the nearest integer\n",
    "# print(first_ind)\n",
    "second_ind = math.floor((len(lst_1)/2)-1)\n",
    "# print(second_ind)\n",
    "median_lst1 = (lst_1[first_ind] + lst_1[second_ind])/2\n",
    "print(\"Median of the age is\", median_lst1)"
   ]
  },
  {
   "attachments": {},
   "cell_type": "markdown",
   "metadata": {},
   "source": [
    "#### Median of a odd numbered list using math library"
   ]
  },
  {
   "cell_type": "code",
   "execution_count": 27,
   "metadata": {},
   "outputs": [],
   "source": [
    "new_data = data[0:9]"
   ]
  },
  {
   "cell_type": "code",
   "execution_count": 28,
   "metadata": {},
   "outputs": [
    {
     "name": "stdout",
     "output_type": "stream",
     "text": [
      "Median of the age is 42\n"
     ]
    }
   ],
   "source": [
    "lst_2 = list(new_data['age'])\n",
    "lst_2.sort()\n",
    "middle_ind = math.floor(len(lst_2)/2)\n",
    "median_lst2 = lst_2[middle_ind]\n",
    "print(\"Median of the age is\", median_lst2)"
   ]
  },
  {
   "attachments": {},
   "cell_type": "markdown",
   "metadata": {},
   "source": [
    "#### Median using python statistics library"
   ]
  },
  {
   "cell_type": "code",
   "execution_count": 29,
   "metadata": {},
   "outputs": [],
   "source": [
    "from statistics import median"
   ]
  },
  {
   "cell_type": "code",
   "execution_count": 30,
   "metadata": {},
   "outputs": [
    {
     "name": "stdout",
     "output_type": "stream",
     "text": [
      "Median of even list 43.0\n",
      "Median of odd list 42\n"
     ]
    }
   ],
   "source": [
    "median2_lst1 = median(lst_1)\n",
    "median2_lst2 = median(lst_2)\n",
    "print(\"Median of even list\", median2_lst1)\n",
    "print(\"Median of odd list\", median2_lst2)"
   ]
  },
  {
   "attachments": {},
   "cell_type": "markdown",
   "metadata": {},
   "source": [
    "#### Median using NumPy library"
   ]
  },
  {
   "cell_type": "code",
   "execution_count": 31,
   "metadata": {},
   "outputs": [
    {
     "name": "stdout",
     "output_type": "stream",
     "text": [
      "Median of even list 43.0\n",
      "Median of odd list 42.0\n"
     ]
    }
   ],
   "source": [
    "median3_lst1 = np.median(lst_1)\n",
    "median3_lst2 = np.median(lst_2)\n",
    "print(\"Median of even list\", median3_lst1)\n",
    "print(\"Median of odd list\", median3_lst2)"
   ]
  },
  {
   "attachments": {},
   "cell_type": "markdown",
   "metadata": {},
   "source": [
    "#### Python function to calculate median of a list"
   ]
  },
  {
   "cell_type": "code",
   "execution_count": 32,
   "metadata": {},
   "outputs": [
    {
     "name": "stdout",
     "output_type": "stream",
     "text": [
      "43.0\n",
      "42\n"
     ]
    }
   ],
   "source": [
    "def median_list(lst):\n",
    "    sorted_list = sorted(lst)\n",
    "    lstlen = len(lst)\n",
    "    index = (lstlen - 1) // 2\n",
    "\n",
    "    if (lstlen % 2):\n",
    "        return sorted_list[index]\n",
    "    \n",
    "    else:\n",
    "        return (sorted_list[index] + sorted_list[index+1])/2.0\n",
    "\n",
    "print(median_list(lst_1))\n",
    "print(median_list(lst_2))\n"
   ]
  },
  {
   "attachments": {},
   "cell_type": "markdown",
   "metadata": {},
   "source": [
    "#### Python function to calculate median of an array"
   ]
  },
  {
   "cell_type": "code",
   "execution_count": 33,
   "metadata": {},
   "outputs": [
    {
     "name": "stdout",
     "output_type": "stream",
     "text": [
      "43.0\n",
      "42\n"
     ]
    }
   ],
   "source": [
    "array1 = np.array(lst_1)\n",
    "array2 = np.array(lst_2)\n",
    "\n",
    "def median_array(array):\n",
    "    array = sorted(array)\n",
    "    half, odd = divmod(len(array), 2)\n",
    "    if odd:\n",
    "        return array[half]\n",
    "    return (array[half - 1] + array[half]) / 2.0\n",
    "\n",
    "print(median_array(array1))\n",
    "print(median_array(array2))"
   ]
  },
  {
   "attachments": {},
   "cell_type": "markdown",
   "metadata": {},
   "source": [
    "## Median of frequency table - discrete and grouped"
   ]
  },
  {
   "cell_type": "code",
   "execution_count": null,
   "metadata": {},
   "outputs": [],
   "source": []
  },
  {
   "attachments": {},
   "cell_type": "markdown",
   "metadata": {},
   "source": [
    "## Mode of a dataset"
   ]
  },
  {
   "cell_type": "code",
   "execution_count": 34,
   "metadata": {},
   "outputs": [
    {
     "data": {
      "text/plain": [
       "[4]"
      ]
     },
     "execution_count": 34,
     "metadata": {},
     "output_type": "execute_result"
    }
   ],
   "source": [
    "# Mode function from scratch\n",
    "\n",
    "def mode(lst):\n",
    "    y = {}\n",
    "    for a in lst:\n",
    "        if not a in y:\n",
    "            y[a] = 1\n",
    "        else:\n",
    "            y[a] +=1\n",
    "    return  [g for g,l in y.items() if l==max(y.values())]\n",
    "\n",
    "lst = [1,1,1,2,2,2,2,3,3,3,4,4,4,4,4,4]\n",
    "mode_lst = mode(lst)\n",
    "mode_lst"
   ]
  },
  {
   "cell_type": "code",
   "execution_count": 35,
   "metadata": {},
   "outputs": [
    {
     "ename": "StatisticsError",
     "evalue": "no unique mode; found 2 equally common values",
     "output_type": "error",
     "traceback": [
      "\u001b[1;31m---------------------------------------------------------------------------\u001b[0m",
      "\u001b[1;31mStatisticsError\u001b[0m                           Traceback (most recent call last)",
      "\u001b[1;32m~\\AppData\\Local\\Temp\\ipykernel_31308\\2423741480.py\u001b[0m in \u001b[0;36m<module>\u001b[1;34m\u001b[0m\n\u001b[0;32m      2\u001b[0m \u001b[1;33m\u001b[0m\u001b[0m\n\u001b[0;32m      3\u001b[0m \u001b[0mdata1\u001b[0m \u001b[1;33m=\u001b[0m \u001b[0mdata\u001b[0m\u001b[1;33m[\u001b[0m\u001b[1;34m'age'\u001b[0m\u001b[1;33m]\u001b[0m\u001b[1;33m\u001b[0m\u001b[1;33m\u001b[0m\u001b[0m\n\u001b[1;32m----> 4\u001b[1;33m \u001b[0mprint\u001b[0m\u001b[1;33m(\u001b[0m\u001b[1;34m\"Mode of the dataset is\"\u001b[0m\u001b[1;33m,\u001b[0m \u001b[0mstatistics\u001b[0m\u001b[1;33m.\u001b[0m\u001b[0mmode\u001b[0m\u001b[1;33m(\u001b[0m\u001b[0mdata1\u001b[0m\u001b[1;33m)\u001b[0m\u001b[1;33m)\u001b[0m\u001b[1;33m\u001b[0m\u001b[1;33m\u001b[0m\u001b[0m\n\u001b[0m",
      "\u001b[1;32mc:\\Users\\inannar\\AppData\\Local\\Programs\\Python\\Python37\\lib\\statistics.py\u001b[0m in \u001b[0;36mmode\u001b[1;34m(data)\u001b[0m\n\u001b[0;32m    504\u001b[0m     \u001b[1;32melif\u001b[0m \u001b[0mtable\u001b[0m\u001b[1;33m:\u001b[0m\u001b[1;33m\u001b[0m\u001b[1;33m\u001b[0m\u001b[0m\n\u001b[0;32m    505\u001b[0m         raise StatisticsError(\n\u001b[1;32m--> 506\u001b[1;33m                 \u001b[1;34m'no unique mode; found %d equally common values'\u001b[0m \u001b[1;33m%\u001b[0m \u001b[0mlen\u001b[0m\u001b[1;33m(\u001b[0m\u001b[0mtable\u001b[0m\u001b[1;33m)\u001b[0m\u001b[1;33m\u001b[0m\u001b[1;33m\u001b[0m\u001b[0m\n\u001b[0m\u001b[0;32m    507\u001b[0m                 )\n\u001b[0;32m    508\u001b[0m     \u001b[1;32melse\u001b[0m\u001b[1;33m:\u001b[0m\u001b[1;33m\u001b[0m\u001b[1;33m\u001b[0m\u001b[0m\n",
      "\u001b[1;31mStatisticsError\u001b[0m: no unique mode; found 2 equally common values"
     ]
    }
   ],
   "source": [
    "import statistics \n",
    "\n",
    "data1 = data['age']\n",
    "print(\"Mode of the dataset is\", statistics.mode(data1))"
   ]
  },
  {
   "attachments": {},
   "cell_type": "markdown",
   "metadata": {},
   "source": [
    "## Mode of frequency table - discrete and grouped"
   ]
  },
  {
   "cell_type": "code",
   "execution_count": null,
   "metadata": {},
   "outputs": [],
   "source": []
  },
  {
   "attachments": {},
   "cell_type": "markdown",
   "metadata": {},
   "source": [
    "# Measures of dispersion\n",
    "The measures of dispersion help to interpret the variability of the data i.e. to know how much homogeneous or heterogeneous the data is, how squeezed or scattered the data is."
   ]
  },
  {
   "attachments": {},
   "cell_type": "markdown",
   "metadata": {},
   "source": [
    "## Absolute Measures of Dispersion\n",
    "An absolute measure of dispersion contains the same unit as the original data set. The absolute dispersion method expresses the variations in terms of the average of deviations of observations like standard or means deviations. "
   ]
  },
  {
   "cell_type": "code",
   "execution_count": null,
   "metadata": {},
   "outputs": [
    {
     "data": {
      "text/plain": [
       "[54, 28, 29, 33, 51, 48, 40, 59, 42, 28]"
      ]
     },
     "execution_count": 37,
     "metadata": {},
     "output_type": "execute_result"
    }
   ],
   "source": [
    "## Data for dispersion calculation\n",
    "sample = list(data['age'])\n",
    "sample"
   ]
  },
  {
   "attachments": {},
   "cell_type": "markdown",
   "metadata": {},
   "source": [
    "### Range \n",
    "Difference between maximum value and the minimum value given in a dataset"
   ]
  },
  {
   "cell_type": "code",
   "execution_count": null,
   "metadata": {},
   "outputs": [
    {
     "name": "stdout",
     "output_type": "stream",
     "text": [
      "Range of the sample is 31\n"
     ]
    }
   ],
   "source": [
    "def range(lst):\n",
    "    maximum = max(lst)\n",
    "    minimum = min(lst)\n",
    "    return maximum - minimum\n",
    "\n",
    "range_sample = range(sample)\n",
    "print(\"Range of the sample is\",range_sample)"
   ]
  },
  {
   "attachments": {},
   "cell_type": "markdown",
   "metadata": {},
   "source": [
    "### Variance\n",
    "Informally, variance estimates how far a set of numbers (random) are spread out from their mean value."
   ]
  },
  {
   "cell_type": "code",
   "execution_count": null,
   "metadata": {},
   "outputs": [
    {
     "name": "stdout",
     "output_type": "stream",
     "text": [
      "Variance of the sample is 132.1777777777778\n",
      "Variance of the sample is 132.17777777777778\n"
     ]
    }
   ],
   "source": [
    "def variance(lst):\n",
    "    n = len(lst)\n",
    "    mean = sum(lst)/n\n",
    "    deviations = [(x - mean)**2 for x in lst]\n",
    "    variance = sum(deviations)/(n-1)            # Use (n-1) when sample dataset and n in case of population\n",
    "    return variance\n",
    "\n",
    "var_sample = variance(sample)\n",
    "print(\"Variance of the sample is\",var_sample)\n",
    "\n",
    "# Alternatively\n",
    "import statistics\n",
    "\n",
    "var2_sample = statistics.variance(sample)\n",
    "print(\"Variance of the sample is\",var2_sample)"
   ]
  },
  {
   "attachments": {},
   "cell_type": "markdown",
   "metadata": {},
   "source": [
    "### Standard deviation\n",
    "Measure of how spread out the data is.The standard deviation measures the amount of variation or dispersion of a set of numeric values."
   ]
  },
  {
   "cell_type": "code",
   "execution_count": null,
   "metadata": {},
   "outputs": [
    {
     "name": "stdout",
     "output_type": "stream",
     "text": [
      "Standard devaition of the sample is 11.496859474559903\n",
      "Standard devaition of the sample is 11.496859474559901\n"
     ]
    }
   ],
   "source": [
    "def stdev(data):\n",
    "    var = variance(data)\n",
    "    std_dev = var**(1/2)\n",
    "    return std_dev\n",
    "\n",
    "standard_deviation = stdev(sample)\n",
    "print(\"Standard devaition of the sample is\", standard_deviation)\n",
    "\n",
    "#Alternatively\n",
    "std_dev = statistics.stdev(sample)\n",
    "print(\"Standard devaition of the sample is\", std_dev)"
   ]
  },
  {
   "attachments": {},
   "cell_type": "markdown",
   "metadata": {},
   "source": [
    "### Quartile deviation\n",
    "The quartiles are values that divide a list of numbers into quarters. The quartile deviation is half of the distance between the third and the first quartile."
   ]
  },
  {
   "cell_type": "code",
   "execution_count": null,
   "metadata": {},
   "outputs": [
    {
     "name": "stdout",
     "output_type": "stream",
     "text": [
      "Quartile deviation of the data is 11.0\n",
      "Quartile 1 :  30.0\n",
      "Quartile 2 :  41.0\n",
      "Quartile 3 :  50.25\n",
      "10.125\n"
     ]
    }
   ],
   "source": [
    "def iqr(data):\n",
    "    data = sorted(data)\n",
    "    n = len(data)\n",
    "    q1 = median(data[:n//2])        # median of the first half\n",
    "    q3 = median(data[(n+1)//2:])    # median of the second half\n",
    "    return q3-q1\n",
    "\n",
    "quartile_dev = iqr(sample)/2\n",
    "print(\"Quartile deviation of the data is\", quartile_dev)\n",
    "\n",
    "\n",
    "#Alternatively,\n",
    "Q1 = np.quantile(sample, 0.25)\n",
    "Q2 = np.quantile(sample, 0.50)\n",
    "Q3 = np.quantile(sample, 0.75)\n",
    "\n",
    "print(\"Quartile 1 : \", Q1)\n",
    "print(\"Quartile 2 : \", Q2)\n",
    "print(\"Quartile 3 : \", Q3)\n",
    "\n",
    "def QuartileDeviation(a, b):\n",
    "    return (a - b)/2\n",
    "print(QuartileDeviation(Q3, Q1))"
   ]
  },
  {
   "attachments": {},
   "cell_type": "markdown",
   "metadata": {},
   "source": [
    "### Mean deviation\n",
    "The average of numbers is known as the mean and the arithmetic mean of the absolute deviations of the observations from a measure of central tendency is known as the mean deviation."
   ]
  },
  {
   "cell_type": "code",
   "execution_count": null,
   "metadata": {},
   "outputs": [
    {
     "name": "stdout",
     "output_type": "stream",
     "text": [
      "Mean Absolute Deviation of the sample is 9.6\n"
     ]
    }
   ],
   "source": [
    "def mad(data):\n",
    "    avg = mean(data)\n",
    "    mad = mean([abs(num - avg) for num in data])\n",
    "    return mad\n",
    "\n",
    "mean_abs_dev = mad(sample)\n",
    "print(\"Mean Absolute Deviation of the sample is\", mean_abs_dev)"
   ]
  },
  {
   "attachments": {},
   "cell_type": "markdown",
   "metadata": {},
   "source": [
    "## Relative Measures of Dispersion\n",
    "The relative measures of dispersion are used to compare the distribution of two or more data sets.This measure compares value without units."
   ]
  },
  {
   "attachments": {},
   "cell_type": "markdown",
   "metadata": {},
   "source": [
    "### Co-efficient of Range"
   ]
  },
  {
   "cell_type": "code",
   "execution_count": null,
   "metadata": {},
   "outputs": [
    {
     "name": "stdout",
     "output_type": "stream",
     "text": [
      "Range of the sample is 0.3563218390804598\n"
     ]
    }
   ],
   "source": [
    "def coeff_range(lst):\n",
    "    maximum = max(lst)\n",
    "    minimum = min(lst)\n",
    "    return (maximum - minimum)/(maximum + minimum)\n",
    "\n",
    "coeff_of_range = coeff_range(sample)\n",
    "print(\"Range of the sample is\",coeff_of_range)"
   ]
  },
  {
   "attachments": {},
   "cell_type": "markdown",
   "metadata": {},
   "source": [
    "### Co-efficient of Variation / Standard deviation"
   ]
  },
  {
   "cell_type": "code",
   "execution_count": null,
   "metadata": {},
   "outputs": [
    {
     "name": "stdout",
     "output_type": "stream",
     "text": [
      "Coefficient of Standard devaition of the sample is 0.2790499872465995\n"
     ]
    }
   ],
   "source": [
    "#Alternatively\n",
    "coeff_std_dev = statistics.stdev(sample)/mean(sample)\n",
    "print(\"Coefficient of Standard devaition of the sample is\", coeff_std_dev)"
   ]
  },
  {
   "attachments": {},
   "cell_type": "markdown",
   "metadata": {},
   "source": [
    "### Co-efficient of Quartile deviation"
   ]
  },
  {
   "cell_type": "code",
   "execution_count": null,
   "metadata": {},
   "outputs": [
    {
     "name": "stdout",
     "output_type": "stream",
     "text": [
      "Quartile 1 :  30.0\n",
      "Quartile 2 :  41.0\n",
      "Quartile 3 :  50.25\n",
      "Coefficienct of quartile deviation is 0.2523364485981308\n"
     ]
    }
   ],
   "source": [
    "Q1 = np.quantile(sample, 0.25)\n",
    "Q2 = np.quantile(sample, 0.50)\n",
    "Q3 = np.quantile(sample, 0.75)\n",
    "\n",
    "print(\"Quartile 1 : \", Q1)\n",
    "print(\"Quartile 2 : \", Q2)\n",
    "print(\"Quartile 3 : \", Q3)\n",
    "\n",
    "def quartile_coeff(a, b):\n",
    "    return (a - b)/(a + b)\n",
    "print(\"Coefficienct of quartile deviation is\",quartile_coeff(Q3, Q1))"
   ]
  },
  {
   "attachments": {},
   "cell_type": "markdown",
   "metadata": {},
   "source": [
    "### Co-efficient of Mean deviation"
   ]
  },
  {
   "cell_type": "code",
   "execution_count": null,
   "metadata": {},
   "outputs": [
    {
     "name": "stdout",
     "output_type": "stream",
     "text": [
      "Mean Absolute Deviation of the sample is 0.23300970873786406\n"
     ]
    }
   ],
   "source": [
    "def coeff_mad(data):\n",
    "    avg = mean(data)\n",
    "    coeff_mad = mean([abs(num - avg) for num in data]) / mean(sample)\n",
    "    return coeff_mad\n",
    "\n",
    "coeff_mean_dev = coeff_mad(sample)\n",
    "print(\"Mean Absolute Deviation of the sample is\", coeff_mean_dev)"
   ]
  }
 ],
 "metadata": {
  "kernelspec": {
   "display_name": "Python 3",
   "language": "python",
   "name": "python3"
  },
  "language_info": {
   "codemirror_mode": {
    "name": "ipython",
    "version": 3
   },
   "file_extension": ".py",
   "mimetype": "text/x-python",
   "name": "python",
   "nbconvert_exporter": "python",
   "pygments_lexer": "ipython3",
   "version": "3.7.9 (tags/v3.7.9:13c94747c7, Aug 17 2020, 18:58:18) [MSC v.1900 64 bit (AMD64)]"
  },
  "orig_nbformat": 4,
  "vscode": {
   "interpreter": {
    "hash": "76bebeb9821d18d90e67a1ddec662dbcad77ea6f6a68db11c6fd6a95058fb303"
   }
  }
 },
 "nbformat": 4,
 "nbformat_minor": 2
}
